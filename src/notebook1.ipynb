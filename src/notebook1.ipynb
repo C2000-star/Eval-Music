{
 "cells": [
  {
   "cell_type": "code",
   "execution_count": null,
   "id": "3dbc1fc0",
   "metadata": {},
   "outputs": [],
   "source": [
    "conda env create -n environment.yml"
   ]
  },
  {
   "cell_type": "code",
   "execution_count": null,
   "id": "6a43a599",
   "metadata": {},
   "outputs": [],
   "source": [
    "conda activate esrgan-tf2"
   ]
  },
  {
   "cell_type": "code",
   "execution_count": null,
   "id": "52624972",
   "metadata": {},
   "outputs": [],
   "source": [
    "pip install -r requirements.txt"
   ]
  },
  {
   "cell_type": "code",
   "execution_count": null,
   "id": "e0daa2f6",
   "metadata": {},
   "outputs": [],
   "source": []
  }
 ],
 "metadata": {
  "kernelspec": {
   "display_name": "Python 3",
   "language": "python",
   "name": "python3"
  },
  "language_info": {
   "codemirror_mode": {
    "name": "ipython",
    "version": 3
   },
   "file_extension": ".py",
   "mimetype": "text/x-python",
   "name": "python",
   "nbconvert_exporter": "python",
   "pygments_lexer": "ipython3",
   "version": "3.8.8"
  }
 },
 "nbformat": 4,
 "nbformat_minor": 5
}
